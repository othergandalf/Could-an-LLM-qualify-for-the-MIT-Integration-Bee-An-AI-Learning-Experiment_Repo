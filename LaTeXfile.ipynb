{
 "cells": [
  {
   "cell_type": "markdown",
   "id": "5a1d5a1f",
   "metadata": {},
   "source": [
    "# LaTeX Code Bank"
   ]
  },
  {
   "cell_type": "markdown",
   "id": "e39035d0",
   "metadata": {},
   "source": [
    "## Year: 2024 qualifier"
   ]
  },
  {
   "cell_type": "markdown",
   "id": "28858622",
   "metadata": {},
   "source": [
    "kindly provided by MIT."
   ]
  },
  {
   "cell_type": "markdown",
   "id": "16bcff89",
   "metadata": {},
   "source": [
    "## Year: 2023 qualifer"
   ]
  },
  {
   "cell_type": "markdown",
   "id": "c6f54f4c",
   "metadata": {},
   "source": [
    "$ \\int x^{\\frac{1}{\\log x}} d x$\n",
    "\n",
    "$ \\int \\operatorname{sech}(x) d x$\n",
    "\n",
    "$ \\int \\frac{e^{x}}{\\left(1+e^{x}\\right) \\log \\left(1+e^{x}\\right)} d x$\n",
    "\n",
    "$ \\int\\left(1+x+x^{2}+x^{3}+x^{4}\\right)\\left(1-x+x^{2}-x^{3}+x^{4}\\right) d x$\n",
    "\n",
    "$ \\int_{0}^{4}\\left(\\begin{array}{l}x \\\\ 5\\end{array}\\right) d x$\n",
    "\n",
    "$ \\int(x+\\sin (x)+x \\cos (x)+\\sin (x) \\cos (x)) d x$\n",
    "\n",
    "$ \\int\\left(\\sin ^{2}(x)+\\cos ^{2}(x)+\\tan ^{2}(x)+\\cot ^{2}(x)+\\sec ^{2}(x)+\\csc ^{2}(x)\\right) d x$\n",
    "\n",
    "$ \\int_{0}^{2 \\pi}\\lfloor 2023 \\sin (x)\\rfloor d x$\n",
    "\n",
    "$ \\int(2 \\log x+1) e^{(\\log x)^{2}} d x$\n",
    "\n",
    "$ \\int\\left((1-x)^{3}+\\left(x-x^{2}\\right)^{3}+\\left(x^{2}-1\\right)^{3}-3(1-x)\\left(x-x^{2}\\right)\\left(x^{2}-1\\right)\\right) d x$\n",
    "\n",
    "$ \\int_{-2023}^{2023} \\underbrace{|||||x|-1|-1| \\cdots|-1|}_{2023(-1) \\text { 's }} d x$\n",
    "\n",
    "$ \\int\\left(\\sin ^{6} x+\\cos ^{6} x+3 \\sin ^{2} x \\cos ^{2} x\\right) d x$\n",
    "\n",
    "$ \\int(x+e+1) x^{e} e^{x} d x$\n",
    "\n",
    "$ \\int_{0}^{1}\\left(\\frac{x^{2}}{2-x^{2}}+\\sqrt{\\frac{2 x}{x+1}}\\right) d x$\n",
    "\n",
    "$ \\int \\frac{1+2 x^{2022}}{x+x^{2023}} d x$\n",
    "\n",
    "$ \\int(3 \\sin (20 x) \\cos (23 x)+20 \\sin (43 x)) d x$\n",
    "\n",
    "$ \\int_{0}^{1} \\prod_{k=0}^{\\infty}\\left(\\frac{1}{1+x^{2^{k}}}\\right) d x$\n",
    "\n",
    "$ \\int \\frac{\\sin x}{2 e^{x}+\\cos x+\\sin x} d x$\n",
    "\n",
    "$ \\int \\frac{\\log (x / \\pi)}{(\\log x)^{\\log (\\pi e)}} d x$\n",
    "\n",
    "$ \\int_{-3 / 2}^{-1 / 2}\\left(x^{5}+5 x^{4}+10 x^{3}+8 x^{2}+x\\right) d x$"
   ]
  },
  {
   "cell_type": "markdown",
   "id": "a74996b4",
   "metadata": {},
   "source": [
    "## Year: 2022 qualifier"
   ]
  },
  {
   "cell_type": "markdown",
   "id": "ba643427",
   "metadata": {},
   "source": [
    "$1 \\int \\frac{1+\\cos x}{x+\\sin x} d x$\n",
    "\n",
    "$2 \\int_{1}^{\\sqrt{3}} \\frac{\\arctan x+\\operatorname{arccot} x}{x} d x$\n",
    "\n",
    "$3 \\int_{0}^{2022} x^{2}-\\lfloor x\\rfloor\\lceil x\\rceil d x$\n",
    "\n",
    "$4 \\int \\frac{\\sinh (x)}{\\cosh (x)-\\sinh (x)} d x$\n",
    "\n",
    "$5 \\int \\frac{x}{\\sqrt{x-1}+\\sqrt{x+1}} d x$\n",
    "\n",
    "$6 \\int_{0}^{\\pi} \\cos (x+\\cos x) d x$\n",
    "\n",
    "$7 \\int x^{3} \\sin \\left(x^{2}\\right) d x$\n",
    "\n",
    "$8 \\int \\frac{x}{1-x^{4}} d x$\n",
    "\n",
    "$9 \\int \\frac{1}{\\cosh ^{2} x} d x$\n",
    "\n",
    "$10 \\int_{0}^{1} e^{e^{x}}-e^{e^{x}-x} d x$\n",
    "\n",
    "$11 \\lim _{n \\rightarrow \\infty} \\int_{0}^{3} \\underbrace{\\sin \\left(\\frac{\\pi}{3} \\sin \\left(\\frac{\\pi}{3} \\sin \\left(\\ldots \\sin \\left(\\frac{\\pi}{3} x\\right) \\ldots\\right)\\right)\\right)}_{n \\sin \\text { 's }} d x$\n",
    "\n",
    "$12 \\int_{0}^{1} \\sqrt{1-\\sqrt{x}} d x$\n",
    "\n",
    "$13 \\int \\frac{x^{3}}{1+x+\\frac{x^{2}}{2}+\\frac{x^{3}}{6}} d x$\n",
    "\n",
    "$14 \\int \\sin (x+\\sin (x))-\\sin (x-\\sin (x)) d x$\n",
    "\n",
    "$15 \\int \\tan ^{4}(x) \\sec ^{3}(x)+\\tan ^{2}(x) \\sec ^{5}(x) d x$\n",
    "\n",
    "$16 \\int(1+\\log x) \\log \\log x d x$\n",
    "\n",
    "$17 \\int \\frac{1}{1+\\sin x}+\\frac{1}{1+\\cos x}+\\frac{1}{1+\\tan x}+\\frac{1}{1+\\cot x}+\\frac{1}{1+\\sec x}+\\frac{1}{1+\\csc x} d x$\n",
    "\n",
    "$18 \\int \\frac{1}{\\sqrt{x-x^{2}}} d x$\n",
    "\n",
    "$19 \\int_{0}^{\\frac{1}{2}} \\sum_{n=0}^{\\infty}\\left(\\begin{array}{c}n+3 \\\\ n\\end{array}\\right) x^{n} d x$\n",
    "\n",
    "$20 \\int \\frac{1}{1+\\cos ^{2} x} d x$"
   ]
  },
  {
   "cell_type": "markdown",
   "id": "8a93d71e",
   "metadata": {},
   "source": [
    "## 2021 skipped-- no Bee held\n",
    "\n",
    "## Year: 2020 qualifier"
   ]
  },
  {
   "cell_type": "markdown",
   "id": "c296b5a0",
   "metadata": {},
   "source": [
    "$1 \\int \\frac{\\log (2 x)}{x \\log x} d x$\n",
    "$2 \\int_{0}^{\\infty} \\frac{1}{e^{x}+1} d x$\n",
    "$3 \\int_{e}^{e^{e}} \\frac{\\log x \\cdot \\log (\\log x)}{x} d x$\n",
    "$4 \\int_{0}^{1} \\log \\left(\\frac{1+x}{1-x}\\right) d x$\n",
    "$5 \\int \\frac{1}{x^{2}+(x-1)^{2}} d x$\n",
    "$6 \\int \\sqrt{x \\sqrt{x \\sqrt{x \\cdots}}} d x$\n",
    "$7 \\int \\sin ^{4} x \\cos ^{4} x(\\cos x+\\sin x)(\\cos x-\\sin x) d x$\n",
    "$8 \\int \\log \\left(x^{2}+1\\right) d x$\n",
    "$9 \\int_{0}^{2 \\pi} \\cos ^{2020}(x) d x$\n",
    "$10 \\int \\frac{2 x+1}{2 x^{2}+2 x+1} d x$\n",
    "$11 \\int_{1 / \\sqrt{2}}^{1} \\frac{\\arcsin (x)}{x^{3}} d x$\n",
    "$12 \\int_{0}^{\\pi / 2} \\sin (2 x) \\cos (\\cos (x)) d x$\n",
    "$13 \\int_{0}^{2 \\pi} \\sin (\\sin (x)-x) d x$\n",
    "$14 \\int \\frac{1}{x-1}+\\frac{\\sum_{k=0}^{2018}(k+1) x^{k}}{\\sum_{k=0}^{2019} x^{k}} d x$\n",
    "$15 \\int_{0}^{\\frac{\\pi}{2}} \\frac{1}{\\tan ^{\\sqrt{2020}}(x)+1} d x$\n",
    "$16 \\int x(1-x)^{2020} d x$\n",
    "$17 \\int \\frac{\\sec ^{4}(x) \\tan (x)}{\\sec ^{4}(x)+4} d x$\n",
    "$18 \\int x^{2 x}(2 \\log (x)+2) d x$\n",
    "$19 \\int_{0}^{1} \\sqrt{1-x^{2}} d x$\n",
    "$20 \\int_{0}^{\\infty} x^{5} e^{-x^{4}} d x$"
   ]
  },
  {
   "cell_type": "markdown",
   "id": "40817945",
   "metadata": {},
   "source": [
    "## Year: 2019 qualifier"
   ]
  },
  {
   "cell_type": "markdown",
   "id": "9f898561",
   "metadata": {},
   "source": [
    "$1 \\int_{0}^{2 \\pi} \\tan (\\cos (x)) d x$\n",
    "$2 \\int \\frac{x+1}{x(x+\\log x)} d x$\n",
    "$3 \\int e^{x+e^{x}}+e^{x-e^{x}} d x$\n",
    "$4 \\int_{-1 / 2}^{1 / 2} \\frac{d x}{1-x^{2}}$\n",
    "$5 \\int_{0}^{2} 2^{\\log x} d x$\n",
    "$6 \\int_{-2 \\pi}^{2 \\pi}(\\cos 3 x+\\sin 2 x)(-\\sin 2019 x+\\cos 3 x) d x$\n",
    "$7 \\int \\cos x \\cdot \\cos \\sin x \\cdot \\cos \\sin \\sin x d x$\n",
    "$8 \\int_{0}^{\\infty} \\frac{e^{-\\frac{2019}{4 t^{2}}}}{t^{2}} d t$\n",
    "$9 \\int \\sin (\\sqrt{x}) d x$\n",
    "$10 \\int_{0}^{1} \\frac{\\sqrt{x}}{1+x} d x$\n",
    "$11 \\int_{0}^{2 \\pi} \\cos (x) \\cos (2 x) \\cos (3 x) d x$\n",
    "$12 \\lim _{n \\rightarrow \\infty} \\int_{-\\infty}^{\\infty} e^{-x^{2 n}} d x$\n",
    "$13 \\int_{0}^{e} x^{\\frac{1}{\\log x}} d x$\n",
    "$14 \\int_{0}^{\\pi / 100} \\frac{\\sin (20 x)+\\sin (19 x)}{\\cos (20 x)+\\cos (19 x)} d x$\n",
    "$15 \\int\\left(e^{x} \\cos ^{2}(x)+e^{x} \\cos (x) \\sin (x)-e^{x} \\sin ^{2}(x)\\right) d x$\n",
    "$16 \\int_{0}^{\\pi / 2} \\frac{\\sin x}{\\sin (x+\\pi / 4)} d x$\n",
    "$17 \\int \\frac{d x}{x+\\sqrt[3]{x}}$\n",
    "$18 \\int_{0}^{2} x^{x^{2}+1}(2 \\log (x)+1) d x$\n",
    "$19 \\int \\frac{2 x^{3}-1}{x\\left(x^{3}+1\\right)} d x$\n",
    "$20 \\int \\cos (\\arctan (x)) d x$"
   ]
  },
  {
   "cell_type": "markdown",
   "id": "3a6f3345",
   "metadata": {},
   "source": [
    "## 2018 qualifier"
   ]
  },
  {
   "cell_type": "markdown",
   "id": "1813d631",
   "metadata": {},
   "source": [
    "$1 \\quad \\int \\frac{e^x}{e^x+2} d x$\n",
    "$2 \\int \\sqrt{x \\cdot \\sqrt[3]{x \\cdot \\sqrt[4]{x \\cdot \\sqrt[5]{x \\cdots}}}} d x$\n",
    "$3 \\int_0^{2018 \\pi}|\\sin (2018 x)| d x$\n",
    "$4 \\int \\frac{d x}{\\tan x+\\cot x}$\n",
    "$5 \\int \\frac{x^5}{2+x^{12}} d x$\n",
    "$6 \\int(\\cos x \\cosh x+\\sin x \\sinh x) d x$\n",
    "$7 \\int \\frac{e^x+\\cos x}{e^x+\\sin x} d x$\n",
    "$8 \\int \\sin (\\cos (\\sin x)) \\sin (\\sin x) \\cos x$\n",
    "$9 \\int \\frac{d x}{1+\\sin (x)}$\n",
    "$10 \\int \\frac{\\cos x}{1-\\cos (2 x)} d x$\n",
    "$11 \\int e^x(1 / x+\\log x) d x$\n",
    "$12 \\int \\tanh ^2(x) d x$\n",
    "$13 \\int \\frac{2017 x^{2016}+2018 x^{2017}}{1+x^{4034}+2 x^{4035}+x^{4036}} d x$\n",
    "$14 \\int \\frac{\\sin (2 x)-\\sin ^2 x}{\\cos (2 x)-\\cos ^2 x} d x$\n",
    "$15 \\int \\frac{d x}{x^{\\frac{25}{25}} \\cdot x^{\\frac{16}{25}}+x^{\\frac{9}{25}}}$\n",
    "$16 \\int_0^{\\pi / 2} \\frac{\\cos (x)}{2-\\cos ^2(x)} d x$\n",
    "$17 \\int \\frac{d x}{\\left(1+x^2\\right)^{3 / 2}}$\n",
    "$18 \\int \\frac{d x}{\\sqrt{x \\sqrt{x}-x^2}}$\n",
    "$19 \\int \\frac{x-1}{x+x^2 \\log x} d x$\n",
    "$20 \\int \\csc (x) \\sec (x) d x$"
   ]
  },
  {
   "cell_type": "markdown",
   "id": "ab5ff07b",
   "metadata": {},
   "source": [
    "## 2017 qualifier"
   ]
  },
  {
   "cell_type": "markdown",
   "id": "18a6e2af",
   "metadata": {},
   "source": [
    "$1 \\int \\frac{x^2}{\\sqrt{x^3+2}} d x$\n",
    "$2 \\int_1^{\\infty} \\frac{\\log x}{x^2} d x$\n",
    "$3 \\int \\operatorname{sech}(x) d x$\n",
    "$4 \\int x^3 e^{x^2} d x$\n",
    "$5 \\int_1^2 \\frac{1}{x \\sqrt{x^2-1}} d x$\n",
    "$6 \\int_1^{\\infty} \\frac{d x}{x\\left(x^2+1\\right)}$\n",
    "$7 \\int \\cosh ^{-1} x d x$\n",
    "$8 \\int_{-\\infty}^{\\infty} e^{-2 x^2-5 x-3} d x$\n",
    "$9 \\int \\sin \\sqrt{x} d x$\n",
    "$10 \\int_0^{\\infty} \\frac{d x}{(x+1 / x)^2}$\n",
    "$11 \\int \\frac{(2+x) e^{-x}}{x^3} d x$\n",
    "$12 \\int_0^1 \\frac{d x}{\\sqrt{x(1-x)}}$\n",
    "$13 \\int_0^{\\infty} \\frac{\\tanh (x)}{\\exp (x)} d x$\n",
    "$14 \\int_0^{\\frac{\\pi}{2}} \\sqrt{\\sin (x)+1} d x$\n",
    "$15 \\lim _{n \\rightarrow \\infty} I_n$, where $I_1=\\int_0^1 \\frac{d x}{1+\\sqrt{x}}, \\quad I_2=\\int_0^1 \\frac{d x}{1+\\frac{1}{1+\\sqrt{x}}}, \\quad I_3=\\int_0^1 \\frac{d x}{1+\\frac{1}{1+\\frac{1}{1+\\sqrt{x}}}}, \\quad$.\n",
    "$16 \\int_{-\\infty}^{\\infty} \\frac{\\sin ^2(x+\\pi / 4)}{e^{x^2}} d x$\n",
    "$17 \\int_{-\\infty}^{\\infty} 3 x^2\\left(x^3+1\\right)^2 e^{-x^6-2 x^3} d x$\n",
    "$18 \\int_0^{\\pi / 2} \\frac{d x}{1+\\tan ^{2017} x}$\n",
    "$19 \\int e^{2 x} \\cos (3 x) d x$\n",
    "$20 \\int(\\cos (x))^{\\cos (x)+1} \\tan (x)(1+\\log (\\cos (x)) d x$"
   ]
  },
  {
   "cell_type": "markdown",
   "id": "4552ea5c",
   "metadata": {},
   "source": [
    "## 2016 qualifier"
   ]
  },
  {
   "cell_type": "markdown",
   "id": "839a99fa",
   "metadata": {},
   "source": [
    "$1 \\int \\tanh x d x$\n",
    "$2 \\int_{-4}^4\\left|x^3-x\\right| d x$\n",
    "$3 \\int_1^e \\log (\\sqrt{x}) d x$\n",
    "$4 \\int\\left(e^{e^x+e^{-x}+x}-e^{e^x+e^{-x}-x}\\right) d x$\n",
    "$5 \\int \\frac{\\log (\\log (x))}{x \\log (x)} d x$\n",
    "$6 \\int_0^{\\pi / 3} \\frac{d x}{1+\\tan ^2(x)}$\n",
    "$7 \\int_{-27}^{27} \\arcsin \\left(\\frac{x^{1 / 3}}{3}\\right) d x$\n",
    "$8 \\int_{50}^{100}\\left\\lfloor\\log _2 x\\right\\rfloor d x$\n",
    "$9 \\int\\left(e^x \\cos x-e^x \\sin x\\right) d x$\n",
    "$10 \\int_0^{\\infty} x^3 e^{-x^2} d x$\n",
    "$11 \\int\\left(\\left(2 e^{x^2} x+1\\right) \\cos x-\\left(e^{x^2}+x\\right) \\sin x\\right) d x$\n",
    "$12 \\int\\left(1+x^{1 / 2}+x^{1 / 3}\\right)\\left(1+x^{-1 / 2}+x^{-1 / 3}\\right) d x$\n",
    "$13 \\int \\sin (\\sin (x)) \\cos (\\sin (x)) \\cos (x) d x$\n",
    "$14 \\int\\left(\\frac{\\cos (x)+\\sin (x)}{x^2}+\\frac{\\sin (x)-\\cos (x)}{x}\\right) d x$\n",
    "$15 \\int x^3 \\sqrt{x^2+1} d x$\n",
    "$16 \\int \\frac{x}{x^4+x^2+1} d x$\n",
    "$17 \\int e^{e^{2016 x}+6048 x} d x$\n",
    "$18 \\int_{\\pi / 3}^{\\pi / 2} \\frac{1-\\cos x}{\\sin x} d x$\n",
    "$19 \\int \\frac{d x}{1-x+x^2-x^3}$\n",
    "$20 \\int_0^{\\infty} \\frac{d x}{2+\\cosh x}$"
   ]
  },
  {
   "cell_type": "markdown",
   "id": "35c13e1f",
   "metadata": {},
   "source": [
    "## 2015 qualifier"
   ]
  },
  {
   "cell_type": "markdown",
   "id": "34a6152c",
   "metadata": {},
   "source": [
    "$1 \\int\\left(\\cos ^4 x-\\sin ^4 x\\right) d x$\n",
    "$2 \\int \\frac{x}{\\sqrt{2+4 x}} d x$\n",
    "$3 \\int_0^8 \\frac{\\cos \\sqrt{x}}{\\sqrt{x}} d x$\n",
    "$4 \\int \\sec x d x$\n",
    "$5 \\int_0^{\\pi / 2} \\frac{e^{\\sin x}}{\\tan x \\csc x} d x$\n",
    "$6 \\int_1^e x(\\log x)^2 d x$\n",
    "$7 \\int \\frac{1}{5+4 \\sqrt{x}+x} d x$\n",
    "$8 \\int(2015)^x d x$\n",
    "$9 \\int_0^2 \\frac{x}{(x-3)(x+5)^2} d x$\n",
    "$10 \\int \\frac{\\log (1+\\log x)}{x} d x$\n",
    "$11 \\int \\sqrt{\\csc x-\\sin x} d x$\n",
    "$12 \\int \\frac{1}{\\sqrt{x^2+25}} d x$\n",
    "$13 \\int_2^e \\frac{\\log ^2 x-1}{x \\log ^2 x} d x$\n",
    "$14 \\int e^{3 x} \\arctan e^x d x$\n",
    "$15 \\int_0^4 \\frac{|x-1|}{|x-2|+|x-3|}$\n",
    "$16 \\int_0^{2 \\pi} \\frac{1}{\\sin ^4 x+\\cos ^4 x} d x$\n",
    "$17 \\int \\frac{1+e^x}{1-e^x} d x$\n",
    "$19 \\int \\sin x \\tan ^2 x d x$\n",
    "$18 \\int \\tan ^4 x d x$\n",
    "$20 \\int \\frac{x+1}{x^2+2 x+3} d x$"
   ]
  },
  {
   "cell_type": "markdown",
   "id": "5e582795",
   "metadata": {},
   "source": [
    "## 2014 qualifier"
   ]
  },
  {
   "cell_type": "markdown",
   "id": "cf9eef94",
   "metadata": {},
   "source": [
    "$1 \\int_1^e \\log \\left(x^2\\right) d x$\n",
    "$2 \\int_{-9}^9 \\sin (\\sqrt[3]{x}) d x$\n",
    "$3 \\int_0^{\\infty} \\frac{d}{d x}\\left[e^{1+x-x^2}\\right] d x$\n",
    "$4 \\int_0^2 \\sqrt{x+\\sqrt{x+\\sqrt{x+\\cdots}}} d x$\n",
    "$5 \\int \\sqrt{x} e^{\\sqrt{x}} d x$\n",
    "$6 \\int \\sin (2 x) \\cos (3 x) d x$\n",
    "$7 \\int_0^{2 \\pi}|1+2 \\sin x| d x$\n",
    "$8 \\int x(1-x)^{2014} d x$\n",
    "$9 \\int \\operatorname{arcsinh}(x)$\n",
    "$10 \\int_{-1}^0 \\frac{x^2}{x-1} d x$\n",
    "$11 \\int x \\arctan x d x$\n",
    "$12 \\int \\frac{d x}{x^2-15 x-2014}$\n",
    "$13 \\int e^x\\left[\\log \\left(1+x^2\\right)-2(1+x) \\arctan x\\right] d x$\n",
    "$14 \\int(\\arcsin x)^2 d x$\n",
    "$15 \\int \\frac{\\sqrt{x^2-1}}{x} d x$\n",
    "$16 \\int x \\sec ^2(4 x) d x$\n",
    "$17 \\int \\frac{2}{6-11 x+6 x^2-x^3} d x$\n",
    "$18 \\int_0^1 \\frac{1}{\\left\\lfloor 1-\\log _2(1-x)\\right\\rfloor} d x$\n",
    "$19 \\int_0^{1 / \\sqrt{3}} \\sqrt{x+\\sqrt{x^2+1}} d x$\n",
    "$20 \\int_0^{5 \\pi / 2} \\frac{d x}{2+\\cos x}$"
   ]
  },
  {
   "cell_type": "markdown",
   "id": "b4f40f82",
   "metadata": {},
   "source": [
    "## 2013 qualifier"
   ]
  },
  {
   "cell_type": "markdown",
   "id": "fa9ec0a2",
   "metadata": {},
   "source": [
    "$1 \\int \\log \\left(x^2\\right)-2 \\log (2 x) d x$\n",
    "$2 \\int_{-1}^3 e^{|x|} d x$\n",
    "$3 \\int \\frac{(\\log x)(\\cos x)-(\\sin x)(1 / x)}{(\\log x)^2} d x$\n",
    "$4 \\int_1^{11} x^3-3 x^2+3 x-1 d x$\n",
    "$5 \\int_0^2 \\sqrt{12-3 x^2} d x$\n",
    "$6 \\int_0^6 x+(x-3)^7+\\sin (x-3) d x$\n",
    "$7 \\int \\sin x \\sqrt{1+\\tan ^2 x} d x$\n",
    "$8 \\int \\frac{x^5-x^3+x^2-1}{x^4-x^3+x-1} d x$\n",
    "$9 \\int_0^1 \\log x d x$\n",
    "$10 \\int \\frac{1}{1-e^{-x}} d x$\n",
    "$11 \\int_0^\\pi \\sin ^2 x \\cos ^2 x d x$\n",
    "$12 \\int_0^{441} \\frac{\\pi \\sin (\\pi \\sqrt{x})}{\\sqrt{x}} d x$\n",
    "$13 \\int \\tan ^2 x d x$\n",
    "$14 \\int_0^{256}(x-\\lfloor x\\rfloor)^2 d x$\n",
    "$15 \\int e^{\\sqrt[4]{x}} d x$\n",
    "$16 \\int \\cos x \\cot x d x$\n",
    "$17 \\int 2 \\log x+(\\log x)^2 d x$\n",
    "$18 \\int \\frac{x^3}{1+x^2} d x$\n",
    "$19 \\int \\frac{1}{2-2 x+x^2} d x$\n",
    "$20 \\int \\sin x \\log (\\sin x) d x$\n",
    "$21 \\int \\frac{x}{1-x^4} d x$\n",
    "$22 \\int \\sqrt{12-3 x^2} d x$\n",
    "$23 \\int \\sec ^5 x \\tan ^3 x d x$\n",
    "$24 \\int_{-\\pi / 4}^{\\pi / 4} \\frac{1}{1-\\sin x} d x$\n",
    "$25 \\int \\frac{1}{x \\sqrt{x^2-2}} d x$"
   ]
  },
  {
   "cell_type": "markdown",
   "id": "19b76f51",
   "metadata": {},
   "source": [
    "## 2012 qualifier"
   ]
  },
  {
   "cell_type": "markdown",
   "id": "29f805ed",
   "metadata": {},
   "source": [
    "1. $\\int \\frac{d x}{\\sqrt{x}-1}$\n",
    "2. $\\int x^{1 / 4} \\log (x) d x$\n",
    "3. $\\int \\frac{d x}{(1+\\sqrt{x}) \\sqrt{x-x^{2}}}$\n",
    "4. $\\int \\frac{d x}{\\sqrt{x}(\\sqrt[4]{x}+1)^{10}}$\n",
    "5. $\\int_{0}^{1} \\sin \\left(\\cos ^{-1}(x)\\right) d x$\n",
    "6. $\\int \\frac{d x}{\\sqrt{1-4 x-x^{2}}}$\n",
    "7. $\\int_{1 / 4}^{1 / 2}\\left\\lfloor\\log \\left\\lfloor\\frac{1}{x}\\right\\rfloor\\right\\rfloor d x$\n",
    "8. $\\int_{0}^{\\frac{\\pi}{2}} \\frac{d x}{1+\\sin (x)}$\n",
    "9. $\\int_{1}^{2011} \\frac{\\sqrt{x}}{\\sqrt{2012-x}+\\sqrt{x}} d x$\n",
    "10. $\\int \\frac{x-1}{(x+1) \\sqrt{x^{3}+x^{2}+x}} d x$\n",
    "11. $\\int_{-1}^{0} \\frac{x^{4}+4 x^{3}+6 x^{2}+4 x+1}{x^{3}-3 x^{2}+3 x-1} d x$\n",
    "12. $\\int\\left(\\cos (x) \\log (x)+\\frac{\\sin (x)}{x}\\right) d x$\n",
    "13. $\\int \\frac{d x}{x^{3}-x}$\n",
    "14. $\\int_{0}^{1 / 2} \\frac{x \\sin ^{-1}(x)}{\\sqrt{1-x^{2}}} d x$\n",
    "15. $\\int_{0}^{1} x(1-x)^{99} d x$\n",
    "16. $\\int_{0}^{\\pi / 2} \\frac{\\sin (4 x)}{\\sin (x)} d x$\n",
    "17. $\\int \\frac{x^{-\\frac{1}{2}}}{1+x^{\\frac{1}{3}}} d x\n",
    "18. $\\int \\frac{d x}{\\sqrt{2 x^{2}-1}}$\n",
    "19. $\\int \\frac{d x}{\\sqrt{e^{x}-1}}$\n",
    "20. $\\int \\frac{x}{x^{4}+4} d x$\n",
    "21. $\\int \\frac{2 d x}{(\\cos (x)-\\sin (x))^{2}}$\n",
    "22. $\\int \\frac{x \\cosh (x)}{\\sinh (x)^{2}} d x$\n",
    "23. $\\int_{0}^{2} x^{5} \\sqrt{1+x^{3}} d x$\n",
    "24. $\\int_{0}^{1} \\frac{x^{7}-1}{\\log (x)} d x$\n",
    "25. $\\int \\sqrt{\\csc (x)-\\sin (x)} d x$"
   ]
  },
  {
   "cell_type": "markdown",
   "id": "8c7778b3",
   "metadata": {},
   "source": [
    "## 2011 qualifer"
   ]
  },
  {
   "cell_type": "markdown",
   "id": "9126d3c8",
   "metadata": {},
   "source": [
    "1. $\\int \\frac{x^6-1}{x^4+x^3-x-1} d x$\n",
    "2. $\\int 2 \\ln (x)+(\\ln (x))^2 d x$\n",
    "3. $\\int 2 \\frac{x}{\\sqrt{1-x^4}} d x$\n",
    "4. $\\int \\frac{x^2+1}{x+1} d x$\n",
    "5. $\\int \\frac{\\sin (x)^3+\\sin (x)^2-2 \\sin (x)-2}{\\sin (x)^2+2 \\sin (x)+1} d x$\n",
    "6. $\\int \\sinh (x)^{-2} d x$\n",
    "7. $\\int \\sec (x)^4 \\tan (x)^2 d x$\n",
    "8. $\\int \\sqrt{\\csc (x)-\\sin (x)} d x$\n",
    "9. $\\int \\cos (x)^6 d x$\n",
    "10. $\\int \\frac{1}{1+2 x^2+x^4} d x$\n",
    "11. $\\int \\cos (\\log (x)) d x$\n",
    "12. $\\int \\frac{1}{\\cos (x)} d x$\n",
    "13. $\\int \\frac{d x}{9 \\cos (x)^2+4 \\sin (x)^2}$\n",
    "14. $\\int \\frac{d x}{x^2\\left(x^4+1\\right)^{3 / 4}}$\n",
    "15. $\\int_0^\\pi \\cos (x) \\cos (3 x) \\cos (5 x) d x$\n",
    "16. $\\int \\frac{1}{\\log (x)}+\\log (\\log (x)) d x$\n",
    "17. $\\int \\frac{1}{2+e^x} d x$\n",
    "18. $\\int \\sqrt{\\frac{x}{1-x^3}} d x$\n",
    "19. $\\int \\frac{4 x}{1-x^4} d x$\n",
    "20. $\\int x^x(1+\\log (x)) d x$\n",
    "21. $\\int_0^6 \\sqrt{6 x-x^2} d x$\n",
    "22. $\\int \\sin (101 x) \\sin (x)^{99} d x$\n",
    "23. $\\int x e^{e^{x^2}+x^2} d x$\n",
    "24. $\\int_0^1 \\frac{x^3-3 x^2+3 x-1}{x^4+4 x^3+6 x^2+4 x+1} d x$\n",
    "25. $\\int \\sqrt{\\frac{1-x}{1+x}} d x$"
   ]
  },
  {
   "cell_type": "markdown",
   "id": "f6924706",
   "metadata": {},
   "source": [
    "# 2010 Qualifer"
   ]
  },
  {
   "cell_type": "markdown",
   "id": "0e2afdad",
   "metadata": {},
   "source": [
    "1. $\\int_0^{\\pi / 2} \\sin (x) \\sin (2 x) \\sin (3 x) d x$\n",
    "15. $\\int_1^{\\infty} \\frac{d x}{\\left(x^2+1\\right)^2}$\n",
    "2. $\\int_0^{\\pi / 2} \\sin (2 x)^3 \\cos (x) d x$\n",
    "16. $\\int_0^1 \\frac{d x}{x^4-13 x^2+36} d x$\n",
    "3. $\\int(x+1)^2(x-1)^{1 / 3} d x$\n",
    "4. $\\int x \\log \\left(1+\\frac{1}{x}\\right) d x$\n",
    "17. $\\int \\frac{\\log (\\log (x))}{x} d x$\n",
    "5. $\\int_0^1 \\sin ^2(\\log x) d x$\n",
    "18. $\\int \\frac{1+\\cot (x)}{1-\\cot (x)} d x$\n",
    "6. $\\int \\frac{1}{1+3 e^x} d x$\n",
    "19. $\\int \\frac{\\cos (x)+x \\sin (x)}{x(x+\\cos (x))} d x$\n",
    "7. $\\int_{\\pi / 4}^{\\pi / 3} \\frac{d x}{\\sin (x)^3 \\cos (x)^5}$\n",
    "20. $\\int_0^{\\pi / 2} \\frac{d x}{\\sin (x)+\\sec (x)} d x$\n",
    "8. $\\int_1^{\\infty} \\frac{d x}{x \\sqrt{x^4-1}}$\n",
    "21. $\\int_0^{\\infty} \\frac{d x}{\\sqrt{1+e^x+e^{2 x}}}$\n",
    "9. $\\int \\frac{d x}{x\\left(x^5+1\\right)} d x$\n",
    "22. $\\int_0^1 x^3 e^{x^2} d x$\n",
    "10. $\\int_0^{\\pi / 4} \\sqrt{\\tan (x)} d x$\n",
    "23. $\\int_0^1 \\sqrt{1+x \\sqrt{1+x \\sqrt{1+x \\sqrt{\\cdots}}}} d x$\n",
    "11. $\\int_0^1 \\frac{\\log (1+x)}{1+x^2} d x$\n",
    "24. $\\int \\frac{1}{\\log (x)}-\\frac{1}{\\log (x)^2} d x$\n",
    "12. $\\int_{64}^{729} \\frac{x^{1 / 2}}{x^{1 / 2}-x^{1 / 3}} d x$\n",
    "25. $\\int_1^2(x-1)^{1 / 2}(2-x)^{1 / 2} d x$\n",
    "13. $\\int x^x(1+\\log (x)) d x$\n",
    "14. $\\int_0^1 x^{13 / 2} \\sqrt{1+x^{5 / 2}} d x$"
   ]
  },
  {
   "cell_type": "markdown",
   "id": "9ac1c875",
   "metadata": {},
   "source": []
  },
  {
   "cell_type": "markdown",
   "id": "058138b3",
   "metadata": {},
   "source": []
  }
 ],
 "metadata": {
  "kernelspec": {
   "display_name": "Python 3 (ipykernel)",
   "language": "python",
   "name": "python3"
  },
  "language_info": {
   "codemirror_mode": {
    "name": "ipython",
    "version": 3
   },
   "file_extension": ".py",
   "mimetype": "text/x-python",
   "name": "python",
   "nbconvert_exporter": "python",
   "pygments_lexer": "ipython3",
   "version": "3.11.5"
  }
 },
 "nbformat": 4,
 "nbformat_minor": 5
}
